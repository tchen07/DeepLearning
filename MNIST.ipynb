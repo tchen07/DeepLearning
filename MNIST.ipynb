{
 "cells": [
  {
   "cell_type": "code",
   "execution_count": 1,
   "metadata": {
    "collapsed": false,
    "deletable": true,
    "editable": true
   },
   "outputs": [
    {
     "name": "stderr",
     "output_type": "stream",
     "text": [
      "Using TensorFlow backend.\n"
     ]
    }
   ],
   "source": [
    "import tensorflow as tf\n",
    "import numpy as np\n",
    "from keras.datasets import mnist"
   ]
  },
  {
   "cell_type": "code",
   "execution_count": 2,
   "metadata": {
    "collapsed": false,
    "deletable": true,
    "editable": true
   },
   "outputs": [],
   "source": [
    "\"\"\"Load data\"\"\"\n",
    "\n",
    "(X_train, y_train), (X_test, y_test) = mnist.load_data(path=\"mnist.npz\")\n",
    "num_classes = 10 # 0 through 9\n",
    "\n",
    "# One-hot encode y_train and y_test\n",
    "y_train = np.array([np.array([0]*(y)+[1]+[0]*(num_classes-y-1)) for y in y_train])\n",
    "y_test  = np.array([np.array([0]*(y)+[1]+[0]*(num_classes-y-1)) for y in y_test])\n",
    "\n",
    "# Flatten Xs\n",
    "X_train = np.array([X.flatten() for X in X_train])\n",
    "X_test  = np.array([X.flatten() for X in X_test])\n",
    "\n",
    "# Create placeholders\n",
    "input_size = X_train.shape[1]\n",
    "X = tf.placeholder(\"float\", [None, input_size])\n",
    "y = tf.placeholder(\"float\", [None, num_classes])"
   ]
  },
  {
   "cell_type": "code",
   "execution_count": 8,
   "metadata": {
    "collapsed": false,
    "deletable": true,
    "editable": true
   },
   "outputs": [],
   "source": [
    "\"\"\"Hyperparams\"\"\"\n",
    "\n",
    "BATCH_SIZE = 100\n",
    "EPOCHS = 15\n",
    "LEARNING_RATE = 0.001\n",
    "DROPOUT = 0.75 # Only used for ConvNets\n",
    "ACC_EVERY = 1 # Print accuracy every __"
   ]
  },
  {
   "cell_type": "code",
   "execution_count": 4,
   "metadata": {
    "collapsed": false,
    "deletable": true,
    "editable": true
   },
   "outputs": [],
   "source": [
    "\"\"\"Utility functions\"\"\"\n",
    "\n",
    "activation = tf.nn.relu\n",
    "\n",
    "def init_weights(weights_sizes):\n",
    "    return [tf.Variable(tf.random_normal(weight_size))\n",
    "           for weight_size in weights_sizes]\n",
    "\n",
    "def init_biases(biases_sizes):\n",
    "    return [tf.Variable(tf.random_normal([bias_size])) for bias_size in biases_sizes]\n",
    "\n",
    "def fully_connected(prev_layer, weight, bias, activation=activation):\n",
    "    layer = tf.add(tf.matmul(prev_layer, weight), bias)\n",
    "    layer = activation(layer)\n",
    "    return layer\n",
    "\n",
    "def convolution(X, W, b, stride=1):\n",
    "    X = tf.nn.conv2d(X, W, strides=[1, stride, stride, 1], padding='SAME')\n",
    "    X = tf.nn.bias_add(X, b)\n",
    "    return activation(X)\n",
    "\n",
    "def max_pool(X):\n",
    "    return tf.nn.max_pool(X, ksize=[1, 2, 2, 1], strides=[1, 2, 2, 1], padding='SAME')"
   ]
  },
  {
   "cell_type": "code",
   "execution_count": 5,
   "metadata": {
    "collapsed": false,
    "deletable": true,
    "editable": true,
    "scrolled": false
   },
   "outputs": [
    {
     "name": "stdout",
     "output_type": "stream",
     "text": [
      "Epoch  000  | Testing Acc: 0.8652\n",
      "Epoch  001  | Testing Acc: 0.8977\n",
      "Epoch  002  | Testing Acc: 0.9106\n",
      "Epoch  003  | Testing Acc: 0.9199\n",
      "Epoch  004  | Testing Acc: 0.928\n",
      "Epoch  005  | Testing Acc: 0.9327\n",
      "Epoch  006  | Testing Acc: 0.9338\n",
      "Epoch  007  | Testing Acc: 0.9367\n",
      "Epoch  008  | Testing Acc: 0.94\n",
      "Epoch  009  | Testing Acc: 0.9398\n",
      "Epoch  010  | Testing Acc: 0.9406\n",
      "Epoch  011  | Testing Acc: 0.9429\n",
      "Epoch  012  | Testing Acc: 0.9452\n",
      "Epoch  013  | Testing Acc: 0.9446\n",
      "Epoch  014  | Testing Acc: 0.9483\n",
      "Final Accuracy: 0.9483\n"
     ]
    }
   ],
   "source": [
    "\"\"\"Multilayer perceptron\"\"\"\n",
    "# Hooray, generalized!\n",
    "# https://www.tensorflow.org used as reference\n",
    "# https://github.com/aymericdamien/TensorFlow-Examples was also useful\n",
    "\n",
    "layers_sizes = [255, 255]\n",
    "\n",
    "weights_sizes = zip([input_size]+layers_sizes, layers_sizes+[num_classes])\n",
    "biases_sizes = layers_sizes+[num_classes]\n",
    "weights = init_weights(weights_sizes)\n",
    "biases = init_biases(biases_sizes)\n",
    "\n",
    "\n",
    "def mlp_layers():\n",
    "    layers = []\n",
    "    for ind, layer_size in enumerate(layers_sizes):\n",
    "        try:\n",
    "            last_layer = layers[-1]\n",
    "        except IndexError:\n",
    "            last_layer = X\n",
    "        layers.append(fully_connected(last_layer, weights[ind], biases[ind]))\n",
    "    layers.append(tf.add(tf.matmul(layers[-1], weights[-1]), biases[-1]))\n",
    "    return layers\n",
    "\n",
    "predictor = mlp_layers()[-1]\n",
    "x_entropy = tf.reduce_mean(tf.nn.softmax_cross_entropy_with_logits(logits=predictor, labels=y))\n",
    "train_step = tf.train.AdamOptimizer(LEARNING_RATE).minimize(x_entropy)\n",
    "\n",
    "sess = tf.InteractiveSession()\n",
    "tf.global_variables_initializer().run()\n",
    "\n",
    "for epoch in range(EPOCHS):\n",
    "    for step in range(len(X_train)//BATCH_SIZE):\n",
    "        start_ind = (step*BATCH_SIZE) % len(X_train)\n",
    "        end_ind = ((step+1)*BATCH_SIZE) % len(X_train)\n",
    "        batch_X, batch_y = X_train[start_ind:end_ind], y_train[start_ind:end_ind]\n",
    "        sess.run(train_step, feed_dict={X:batch_X, y:batch_y})\n",
    "    \n",
    "    if epoch%ACC_EVERY == 0:\n",
    "        correct_prediction = tf.equal(tf.argmax(predictor, 1), tf.argmax(y, 1))\n",
    "        accuracy = tf.reduce_mean(tf.cast(correct_prediction, \"float\"))\n",
    "        print \"Epoch \", str(epoch).zfill(3), \" | Testing Acc:\", accuracy.eval({X: X_test, y: y_test})\n",
    "\n",
    "print \"Final Accuracy:\", accuracy.eval({X: X_test, y: y_test})"
   ]
  },
  {
   "cell_type": "code",
   "execution_count": null,
   "metadata": {
    "collapsed": false,
    "deletable": true,
    "editable": true,
    "scrolled": false
   },
   "outputs": [],
   "source": []
  },
  {
   "cell_type": "code",
   "execution_count": 7,
   "metadata": {
    "collapsed": false,
    "deletable": true,
    "editable": true,
    "scrolled": false
   },
   "outputs": [
    {
     "name": "stdout",
     "output_type": "stream",
     "text": [
      "Epoch  000  | Testing Acc: 0.1609\n",
      "Epoch  001  | Testing Acc: 0.259\n",
      "Epoch  002  | Testing Acc: 0.3908\n",
      "Epoch  003  | Testing Acc: 0.4964\n",
      "Epoch  004  | Testing Acc: 0.5841\n",
      "Epoch  005  | Testing Acc: 0.632\n",
      "Epoch  006  | Testing Acc: 0.6844\n",
      "Epoch  007  | Testing Acc: 0.7052\n"
     ]
    },
    {
     "ename": "KeyboardInterrupt",
     "evalue": "",
     "output_type": "error",
     "traceback": [
      "\u001b[0;31m---------------------------------------------------------------------------\u001b[0m",
      "\u001b[0;31mKeyboardInterrupt\u001b[0m                         Traceback (most recent call last)",
      "\u001b[0;32m<ipython-input-7-0c6e7d7a4f54>\u001b[0m in \u001b[0;36m<module>\u001b[0;34m()\u001b[0m\n\u001b[1;32m     53\u001b[0m         \u001b[0mend_ind\u001b[0m \u001b[0;34m=\u001b[0m \u001b[0;34m(\u001b[0m\u001b[0;34m(\u001b[0m\u001b[0mstep\u001b[0m\u001b[0;34m+\u001b[0m\u001b[0;36m1\u001b[0m\u001b[0;34m)\u001b[0m\u001b[0;34m*\u001b[0m\u001b[0mCONV_BATCH_SIZE\u001b[0m\u001b[0;34m)\u001b[0m \u001b[0;34m%\u001b[0m \u001b[0mlen\u001b[0m\u001b[0;34m(\u001b[0m\u001b[0mX_train\u001b[0m\u001b[0;34m)\u001b[0m\u001b[0;34m\u001b[0m\u001b[0m\n\u001b[1;32m     54\u001b[0m         \u001b[0mbatch_X\u001b[0m\u001b[0;34m,\u001b[0m \u001b[0mbatch_y\u001b[0m \u001b[0;34m=\u001b[0m \u001b[0mX_train\u001b[0m\u001b[0;34m[\u001b[0m\u001b[0mstart_ind\u001b[0m\u001b[0;34m:\u001b[0m\u001b[0mend_ind\u001b[0m\u001b[0;34m]\u001b[0m\u001b[0;34m,\u001b[0m \u001b[0my_train\u001b[0m\u001b[0;34m[\u001b[0m\u001b[0mstart_ind\u001b[0m\u001b[0;34m:\u001b[0m\u001b[0mend_ind\u001b[0m\u001b[0;34m]\u001b[0m\u001b[0;34m\u001b[0m\u001b[0m\n\u001b[0;32m---> 55\u001b[0;31m         \u001b[0msess\u001b[0m\u001b[0;34m.\u001b[0m\u001b[0mrun\u001b[0m\u001b[0;34m(\u001b[0m\u001b[0mtrain_step\u001b[0m\u001b[0;34m,\u001b[0m \u001b[0mfeed_dict\u001b[0m\u001b[0;34m=\u001b[0m\u001b[0;34m{\u001b[0m\u001b[0mX\u001b[0m\u001b[0;34m:\u001b[0m\u001b[0mbatch_X\u001b[0m\u001b[0;34m,\u001b[0m \u001b[0my\u001b[0m\u001b[0;34m:\u001b[0m\u001b[0mbatch_y\u001b[0m\u001b[0;34m,\u001b[0m \u001b[0mdropout_prob\u001b[0m\u001b[0;34m:\u001b[0m \u001b[0mDROPOUT\u001b[0m\u001b[0;34m}\u001b[0m\u001b[0;34m)\u001b[0m\u001b[0;34m\u001b[0m\u001b[0m\n\u001b[0m\u001b[1;32m     56\u001b[0m \u001b[0;34m\u001b[0m\u001b[0m\n\u001b[1;32m     57\u001b[0m     \u001b[0;32mif\u001b[0m \u001b[0mepoch\u001b[0m \u001b[0;34m%\u001b[0m \u001b[0mACC_EVERY\u001b[0m \u001b[0;34m==\u001b[0m \u001b[0;36m0\u001b[0m\u001b[0;34m:\u001b[0m\u001b[0;34m\u001b[0m\u001b[0m\n",
      "\u001b[0;32m/usr/local/lib/python2.7/site-packages/tensorflow/python/client/session.pyc\u001b[0m in \u001b[0;36mrun\u001b[0;34m(self, fetches, feed_dict, options, run_metadata)\u001b[0m\n\u001b[1;32m    765\u001b[0m     \u001b[0;32mtry\u001b[0m\u001b[0;34m:\u001b[0m\u001b[0;34m\u001b[0m\u001b[0m\n\u001b[1;32m    766\u001b[0m       result = self._run(None, fetches, feed_dict, options_ptr,\n\u001b[0;32m--> 767\u001b[0;31m                          run_metadata_ptr)\n\u001b[0m\u001b[1;32m    768\u001b[0m       \u001b[0;32mif\u001b[0m \u001b[0mrun_metadata\u001b[0m\u001b[0;34m:\u001b[0m\u001b[0;34m\u001b[0m\u001b[0m\n\u001b[1;32m    769\u001b[0m         \u001b[0mproto_data\u001b[0m \u001b[0;34m=\u001b[0m \u001b[0mtf_session\u001b[0m\u001b[0;34m.\u001b[0m\u001b[0mTF_GetBuffer\u001b[0m\u001b[0;34m(\u001b[0m\u001b[0mrun_metadata_ptr\u001b[0m\u001b[0;34m)\u001b[0m\u001b[0;34m\u001b[0m\u001b[0m\n",
      "\u001b[0;32m/usr/local/lib/python2.7/site-packages/tensorflow/python/client/session.pyc\u001b[0m in \u001b[0;36m_run\u001b[0;34m(self, handle, fetches, feed_dict, options, run_metadata)\u001b[0m\n\u001b[1;32m    963\u001b[0m     \u001b[0;32mif\u001b[0m \u001b[0mfinal_fetches\u001b[0m \u001b[0;32mor\u001b[0m \u001b[0mfinal_targets\u001b[0m\u001b[0;34m:\u001b[0m\u001b[0;34m\u001b[0m\u001b[0m\n\u001b[1;32m    964\u001b[0m       results = self._do_run(handle, final_targets, final_fetches,\n\u001b[0;32m--> 965\u001b[0;31m                              feed_dict_string, options, run_metadata)\n\u001b[0m\u001b[1;32m    966\u001b[0m     \u001b[0;32melse\u001b[0m\u001b[0;34m:\u001b[0m\u001b[0;34m\u001b[0m\u001b[0m\n\u001b[1;32m    967\u001b[0m       \u001b[0mresults\u001b[0m \u001b[0;34m=\u001b[0m \u001b[0;34m[\u001b[0m\u001b[0;34m]\u001b[0m\u001b[0;34m\u001b[0m\u001b[0m\n",
      "\u001b[0;32m/usr/local/lib/python2.7/site-packages/tensorflow/python/client/session.pyc\u001b[0m in \u001b[0;36m_do_run\u001b[0;34m(self, handle, target_list, fetch_list, feed_dict, options, run_metadata)\u001b[0m\n\u001b[1;32m   1013\u001b[0m     \u001b[0;32mif\u001b[0m \u001b[0mhandle\u001b[0m \u001b[0;32mis\u001b[0m \u001b[0mNone\u001b[0m\u001b[0;34m:\u001b[0m\u001b[0;34m\u001b[0m\u001b[0m\n\u001b[1;32m   1014\u001b[0m       return self._do_call(_run_fn, self._session, feed_dict, fetch_list,\n\u001b[0;32m-> 1015\u001b[0;31m                            target_list, options, run_metadata)\n\u001b[0m\u001b[1;32m   1016\u001b[0m     \u001b[0;32melse\u001b[0m\u001b[0;34m:\u001b[0m\u001b[0;34m\u001b[0m\u001b[0m\n\u001b[1;32m   1017\u001b[0m       return self._do_call(_prun_fn, self._session, handle, feed_dict,\n",
      "\u001b[0;32m/usr/local/lib/python2.7/site-packages/tensorflow/python/client/session.pyc\u001b[0m in \u001b[0;36m_do_call\u001b[0;34m(self, fn, *args)\u001b[0m\n\u001b[1;32m   1020\u001b[0m   \u001b[0;32mdef\u001b[0m \u001b[0m_do_call\u001b[0m\u001b[0;34m(\u001b[0m\u001b[0mself\u001b[0m\u001b[0;34m,\u001b[0m \u001b[0mfn\u001b[0m\u001b[0;34m,\u001b[0m \u001b[0;34m*\u001b[0m\u001b[0margs\u001b[0m\u001b[0;34m)\u001b[0m\u001b[0;34m:\u001b[0m\u001b[0;34m\u001b[0m\u001b[0m\n\u001b[1;32m   1021\u001b[0m     \u001b[0;32mtry\u001b[0m\u001b[0;34m:\u001b[0m\u001b[0;34m\u001b[0m\u001b[0m\n\u001b[0;32m-> 1022\u001b[0;31m       \u001b[0;32mreturn\u001b[0m \u001b[0mfn\u001b[0m\u001b[0;34m(\u001b[0m\u001b[0;34m*\u001b[0m\u001b[0margs\u001b[0m\u001b[0;34m)\u001b[0m\u001b[0;34m\u001b[0m\u001b[0m\n\u001b[0m\u001b[1;32m   1023\u001b[0m     \u001b[0;32mexcept\u001b[0m \u001b[0merrors\u001b[0m\u001b[0;34m.\u001b[0m\u001b[0mOpError\u001b[0m \u001b[0;32mas\u001b[0m \u001b[0me\u001b[0m\u001b[0;34m:\u001b[0m\u001b[0;34m\u001b[0m\u001b[0m\n\u001b[1;32m   1024\u001b[0m       \u001b[0mmessage\u001b[0m \u001b[0;34m=\u001b[0m \u001b[0mcompat\u001b[0m\u001b[0;34m.\u001b[0m\u001b[0mas_text\u001b[0m\u001b[0;34m(\u001b[0m\u001b[0me\u001b[0m\u001b[0;34m.\u001b[0m\u001b[0mmessage\u001b[0m\u001b[0;34m)\u001b[0m\u001b[0;34m\u001b[0m\u001b[0m\n",
      "\u001b[0;32m/usr/local/lib/python2.7/site-packages/tensorflow/python/client/session.pyc\u001b[0m in \u001b[0;36m_run_fn\u001b[0;34m(session, feed_dict, fetch_list, target_list, options, run_metadata)\u001b[0m\n\u001b[1;32m   1002\u001b[0m         return tf_session.TF_Run(session, options,\n\u001b[1;32m   1003\u001b[0m                                  \u001b[0mfeed_dict\u001b[0m\u001b[0;34m,\u001b[0m \u001b[0mfetch_list\u001b[0m\u001b[0;34m,\u001b[0m \u001b[0mtarget_list\u001b[0m\u001b[0;34m,\u001b[0m\u001b[0;34m\u001b[0m\u001b[0m\n\u001b[0;32m-> 1004\u001b[0;31m                                  status, run_metadata)\n\u001b[0m\u001b[1;32m   1005\u001b[0m \u001b[0;34m\u001b[0m\u001b[0m\n\u001b[1;32m   1006\u001b[0m     \u001b[0;32mdef\u001b[0m \u001b[0m_prun_fn\u001b[0m\u001b[0;34m(\u001b[0m\u001b[0msession\u001b[0m\u001b[0;34m,\u001b[0m \u001b[0mhandle\u001b[0m\u001b[0;34m,\u001b[0m \u001b[0mfeed_dict\u001b[0m\u001b[0;34m,\u001b[0m \u001b[0mfetch_list\u001b[0m\u001b[0;34m)\u001b[0m\u001b[0;34m:\u001b[0m\u001b[0;34m\u001b[0m\u001b[0m\n",
      "\u001b[0;31mKeyboardInterrupt\u001b[0m: "
     ]
    }
   ],
   "source": [
    "\"\"\"\n",
    "CONVOLUTIONAL NEURAL NETWORKS\n",
    "\"\"\"\n",
    "sess = tf.InteractiveSession()\n",
    "tf.global_variables_initializer().run()\n",
    "\n",
    "CONV_BATCH_SIZE = 5000 # too slow otherwise\n",
    "dropout_prob = tf.placeholder(tf.float32)\n",
    "layers_sizes = [(5,5,1,32), (5,5,32,64), (64*7**2,1024), (1024,num_classes)]\n",
    "num_conv_layers = 2\n",
    "biases_sizes = [size[-1] for size in layers_sizes]\n",
    "weights = init_weights(layers_sizes)\n",
    "biases = init_biases(biases_sizes)\n",
    "\n",
    "def conv_layers(X, weights, biases, dropout):\n",
    "    X = tf.reshape(X, shape=[-1,28,28,1])\n",
    "    layers = []\n",
    "    # generate conv layers:\n",
    "    for ind, layer_size in enumerate(weights[:num_conv_layers]):\n",
    "        try:\n",
    "            last_layer = layers[-1]\n",
    "        except IndexError:\n",
    "            last_layer = X\n",
    "        layers.append(convolution(last_layer, weights[ind], biases[ind]))\n",
    "        layers.append(max_pool(layers[-1]))\n",
    "        \n",
    "    # generate fully connected layers:\n",
    "    for iter_ind, layer_size in enumerate(weights[num_conv_layers:-1]):\n",
    "        try:\n",
    "            last_layer = layers[-1]\n",
    "        except IndexError:\n",
    "            last_layer = X\n",
    "        ind = iter_ind+num_conv_layers\n",
    "        layer = tf.reshape(last_layer, [-1, weights[ind].get_shape().as_list()[0]])\n",
    "        layer = tf.add(tf.matmul(layer ,weights[ind]), biases[ind])\n",
    "        layer = tf.nn.dropout(layer, dropout)\n",
    "        layers.append(activation(layer))\n",
    "    \n",
    "    last = tf.add(tf.matmul(layers[-1], weights[-1]), biases[-1])\n",
    "    layers.append(last)\n",
    "    return layers\n",
    "\n",
    "predictor = conv_layers(X, weights, biases, dropout_prob)[-1]\n",
    "x_entropy = tf.reduce_mean(tf.nn.softmax_cross_entropy_with_logits(logits=predictor, labels=y))\n",
    "train_step = tf.train.AdamOptimizer(LEARNING_RATE).minimize(x_entropy)\n",
    "\n",
    "sess = tf.InteractiveSession()\n",
    "sess.run(tf.global_variables_initializer())\n",
    "\n",
    "for epoch in range(EPOCHS):\n",
    "    for step in range(len(X_train)//CONV_BATCH_SIZE):\n",
    "        start_ind = (step*CONV_BATCH_SIZE) % len(X_train)\n",
    "        end_ind = ((step+1)*CONV_BATCH_SIZE) % len(X_train)\n",
    "        batch_X, batch_y = X_train[start_ind:end_ind], y_train[start_ind:end_ind]\n",
    "        sess.run(train_step, feed_dict={X:batch_X, y:batch_y, dropout_prob: DROPOUT})\n",
    "    \n",
    "    if epoch % ACC_EVERY == 0:\n",
    "        correct_prediction = tf.equal(tf.argmax(predictor, 1), tf.argmax(y, 1))\n",
    "        # Calculate accuracy\n",
    "        accuracy = tf.reduce_mean(tf.cast(correct_prediction, \"float\"))\n",
    "        print \"Epoch \", str(epoch).zfill(3), \" | Testing Acc:\", accuracy.eval({X: X_test, y: y_test, dropout_prob: DROPOUT})\n",
    "    \n",
    "print \"Final Accuracy:\", accuracy.eval({X: X_test, y: y_test})"
   ]
  },
  {
   "cell_type": "code",
   "execution_count": null,
   "metadata": {
    "collapsed": true,
    "deletable": true,
    "editable": true
   },
   "outputs": [],
   "source": []
  }
 ],
 "metadata": {
  "kernelspec": {
   "display_name": "Python 2",
   "language": "python",
   "name": "python2"
  },
  "language_info": {
   "codemirror_mode": {
    "name": "ipython",
    "version": 2
   },
   "file_extension": ".py",
   "mimetype": "text/x-python",
   "name": "python",
   "nbconvert_exporter": "python",
   "pygments_lexer": "ipython2",
   "version": "2.7.13"
  }
 },
 "nbformat": 4,
 "nbformat_minor": 2
}
